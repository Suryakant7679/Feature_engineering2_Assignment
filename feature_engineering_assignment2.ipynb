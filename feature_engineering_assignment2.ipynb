{
 "cells": [
  {
   "cell_type": "markdown",
   "id": "4209815b-80c7-4f57-82b3-36e00665a558",
   "metadata": {},
   "source": [
    "Q1. What is Min-Max scaling, and how is it used in data preprocessing? Provide an example to illustrate its\r\n",
    "application."
   ]
  },
  {
   "cell_type": "markdown",
   "id": "86555835-cee5-43ab-b34e-587cbb0037dc",
   "metadata": {},
   "source": [
    "Ans:- MinMax Scaler shrinks the data within the given range, usually of 0 to 1. It transforms data by scaling features to a given range. It scales the values to a specific value range without changing the shape of the original distribution"
   ]
  },
  {
   "cell_type": "markdown",
   "id": "ab136e62-9d2c-481a-b437-fdd08dfebbbc",
   "metadata": {},
   "source": [
    "Q2. What is the Unit Vector technique in feature scaling, and how does it differ from Min-Max scaling?\r\n",
    "Provide an example to illustrate its application."
   ]
  },
  {
   "cell_type": "markdown",
   "id": "7dae5ed3-4ebd-4d55-bbcc-6262752ec1aa",
   "metadata": {},
   "source": [
    "Ans:- Min-Max Scaling, the Unit Vector technique produces values of range [0,1]. When dealing with features with hard boundaries, this is quite useful. For example, when dealing with image data, the colors can range from only 0 to 255. If we plot, then it would look as below for L1 and L2 norm, respectively."
   ]
  },
  {
   "cell_type": "markdown",
   "id": "a4901d0c-9485-46f0-b60b-b3ec65e90fd2",
   "metadata": {},
   "source": [
    "Q3. What is PCA (Principle Component Analysis), and how is it used in dimensionality reduction? Provide an\n",
    "example to illustrate its application."
   ]
  },
  {
   "cell_type": "markdown",
   "id": "ec6f7e64-4e3a-45f2-91ac-11846c57e57c",
   "metadata": {},
   "source": [
    "Ans:- Principal Component Analysis (PCA) is a technique used to reduce the dimensionality of a dataset while preserving maximum variation. It transforms the original variables into a new set of linearly uncorrelated variables called principal components\n",
    "Reducing the number of variables in a data collection while retaining as much information as feasible is the main goal of PCA. PCA can be mainly used for Dimensionality Reduction and also for important feature selection."
   ]
  },
  {
   "cell_type": "markdown",
   "id": "6207b9b4-7bf8-4abf-b70a-a3095c18eb7b",
   "metadata": {},
   "source": [
    "Q4. What is the relationship between PCA and Feature Extraction, and how can PCA be used for Feature\n",
    "Extraction? Provide an example to illustrate this concept."
   ]
  },
  {
   "cell_type": "markdown",
   "id": "0c878282-9f0e-4a57-a19c-6956ef0dd82e",
   "metadata": {},
   "source": [
    "Ans:=- Feature extraction: PCA can be used to identify the most important features in a dataset, which can be used to build predictive models. Visualization: PCA can be used to visualize high-dimensional data in two or three dimensions, making it easier to understand and interpret.\n",
    "\n",
    "The hybrid model is a filter model that uses Principal Component Analysis (PCA) and Information gain for determining the most relevant features. It ultimately aims at selecting the best set of features from the original data that will give good classification."
   ]
  },
  {
   "cell_type": "markdown",
   "id": "1fc96dd4-519f-4c89-9277-eb32d6d35966",
   "metadata": {},
   "source": [
    "Q5. You are working on a project to build a recommendation system for a food delivery service. The dataset\n",
    "contains features such as price, rating, and delivery time. Explain how you would use Min-Max scaling to\n",
    "preprocess the data."
   ]
  },
  {
   "cell_type": "code",
   "execution_count": 14,
   "id": "1736fe02-40ed-498b-9c38-8e16e1426d69",
   "metadata": {},
   "outputs": [],
   "source": [
    "import numpy as np\n",
    "data={\n",
    "    'price':[30,50,76,80,90],\n",
    "    'rating':[4,3,7,6,9],\n",
    "    'delivery_time':[9,4,7,3,9]\n",
    "}\n",
    "import pandas as pd\n",
    "df=pd.DataFrame(data)\n"
   ]
  },
  {
   "cell_type": "code",
   "execution_count": 16,
   "id": "7288a890-097c-4b9d-844d-322aeb346dde",
   "metadata": {},
   "outputs": [
    {
     "data": {
      "text/plain": [
       "array([[0.        , 0.16666667, 1.        ],\n",
       "       [0.33333333, 0.        , 0.16666667],\n",
       "       [0.76666667, 0.66666667, 0.66666667],\n",
       "       [0.83333333, 0.5       , 0.        ],\n",
       "       [1.        , 1.        , 1.        ]])"
      ]
     },
     "execution_count": 16,
     "metadata": {},
     "output_type": "execute_result"
    }
   ],
   "source": [
    "from sklearn.preprocessing import MinMaxScaler\n",
    "minmax=MinMaxScaler()\n",
    "minmax.fit_transform(df)"
   ]
  },
  {
   "cell_type": "markdown",
   "id": "acdc92c6-2c5c-4851-a260-48b0ff8798bf",
   "metadata": {},
   "source": [
    "The above technique is used to perform minmax scaling \n",
    "we create a dataset, then we will perform minmax from skelearn library,\n",
    "we will create instance, then we will do fit_transform to perform minmax scaling "
   ]
  },
  {
   "cell_type": "markdown",
   "id": "009aa91b-425e-41d9-aa00-e146986c1330",
   "metadata": {},
   "source": [
    "Q6. You are working on a project to build a model to predict stock prices. The dataset contains many\n",
    "features, such as company financial data and market trends. Explain how you would use PCA to reduce the\n",
    "dimensionality of the dataset."
   ]
  },
  {
   "cell_type": "markdown",
   "id": "c4909c47-b31b-40b0-98bb-06069d985cd3",
   "metadata": {},
   "source": [
    "Ans:-Principal component analysis, or PCA, is a dimensionality reduction method that is often used to reduce the dimensionality of large data sets, by transforming a large set of variables into a smaller one that still contains most of the information in the large set.\n",
    "PCA can be used to get linear relationshib between two or more relation \n",
    "\n",
    "Through PCA we can organise the data on a linear path that is passing through the points lyinng on a 2-D surface"
   ]
  },
  {
   "cell_type": "markdown",
   "id": "4bb9f555-4f4c-4715-9f31-d295e23e278c",
   "metadata": {},
   "source": [
    "Q7. For a dataset containing the following values: [1, 5, 10, 15, 20], perform Min-Max scaling to transform the\n",
    "values to a range of -1 to 1."
   ]
  },
  {
   "cell_type": "code",
   "execution_count": 2,
   "id": "9805637f-ad5b-40e1-b573-128e7fd36ac1",
   "metadata": {},
   "outputs": [],
   "source": [
    "from sklearn.preprocessing import MinMaxScaler"
   ]
  },
  {
   "cell_type": "code",
   "execution_count": 3,
   "id": "9997b409-9682-4eb2-b142-1bf54f634bed",
   "metadata": {},
   "outputs": [],
   "source": [
    "dt=MinMaxScaler()"
   ]
  },
  {
   "cell_type": "code",
   "execution_count": 4,
   "id": "56c8056c-5a72-4eae-82ac-8561d009c17c",
   "metadata": {},
   "outputs": [],
   "source": [
    "values=[1,5,10,15,20]\n"
   ]
  },
  {
   "cell_type": "code",
   "execution_count": 6,
   "id": "5abdc182-4040-4262-b6b8-781f71df8d89",
   "metadata": {},
   "outputs": [],
   "source": [
    "import pandas as pd\n",
    "df=pd.DataFrame(values)"
   ]
  },
  {
   "cell_type": "code",
   "execution_count": 7,
   "id": "ba8836e7-7129-4aab-a48e-00646d714eee",
   "metadata": {},
   "outputs": [
    {
     "data": {
      "text/html": [
       "<div>\n",
       "<style scoped>\n",
       "    .dataframe tbody tr th:only-of-type {\n",
       "        vertical-align: middle;\n",
       "    }\n",
       "\n",
       "    .dataframe tbody tr th {\n",
       "        vertical-align: top;\n",
       "    }\n",
       "\n",
       "    .dataframe thead th {\n",
       "        text-align: right;\n",
       "    }\n",
       "</style>\n",
       "<table border=\"1\" class=\"dataframe\">\n",
       "  <thead>\n",
       "    <tr style=\"text-align: right;\">\n",
       "      <th></th>\n",
       "      <th>0</th>\n",
       "    </tr>\n",
       "  </thead>\n",
       "  <tbody>\n",
       "    <tr>\n",
       "      <th>0</th>\n",
       "      <td>1</td>\n",
       "    </tr>\n",
       "    <tr>\n",
       "      <th>1</th>\n",
       "      <td>5</td>\n",
       "    </tr>\n",
       "    <tr>\n",
       "      <th>2</th>\n",
       "      <td>10</td>\n",
       "    </tr>\n",
       "    <tr>\n",
       "      <th>3</th>\n",
       "      <td>15</td>\n",
       "    </tr>\n",
       "    <tr>\n",
       "      <th>4</th>\n",
       "      <td>20</td>\n",
       "    </tr>\n",
       "  </tbody>\n",
       "</table>\n",
       "</div>"
      ],
      "text/plain": [
       "    0\n",
       "0   1\n",
       "1   5\n",
       "2  10\n",
       "3  15\n",
       "4  20"
      ]
     },
     "execution_count": 7,
     "metadata": {},
     "output_type": "execute_result"
    }
   ],
   "source": [
    "df"
   ]
  },
  {
   "cell_type": "code",
   "execution_count": 10,
   "id": "6d72d0e3-f20f-40ff-a593-ab1aab8c3ab7",
   "metadata": {},
   "outputs": [],
   "source": [
    "dt1=dt.fit_transform(df)"
   ]
  },
  {
   "cell_type": "code",
   "execution_count": 12,
   "id": "7b728829-f82e-48e4-8e0a-793b56ecaff1",
   "metadata": {},
   "outputs": [],
   "source": [
    "min_max_performed=pd.DataFrame(dt1)"
   ]
  },
  {
   "cell_type": "code",
   "execution_count": 13,
   "id": "924ee6c1-f297-4a45-93e0-44ef58d8184c",
   "metadata": {},
   "outputs": [
    {
     "data": {
      "text/html": [
       "<div>\n",
       "<style scoped>\n",
       "    .dataframe tbody tr th:only-of-type {\n",
       "        vertical-align: middle;\n",
       "    }\n",
       "\n",
       "    .dataframe tbody tr th {\n",
       "        vertical-align: top;\n",
       "    }\n",
       "\n",
       "    .dataframe thead th {\n",
       "        text-align: right;\n",
       "    }\n",
       "</style>\n",
       "<table border=\"1\" class=\"dataframe\">\n",
       "  <thead>\n",
       "    <tr style=\"text-align: right;\">\n",
       "      <th></th>\n",
       "      <th>0</th>\n",
       "    </tr>\n",
       "  </thead>\n",
       "  <tbody>\n",
       "    <tr>\n",
       "      <th>0</th>\n",
       "      <td>0.000000</td>\n",
       "    </tr>\n",
       "    <tr>\n",
       "      <th>1</th>\n",
       "      <td>0.210526</td>\n",
       "    </tr>\n",
       "    <tr>\n",
       "      <th>2</th>\n",
       "      <td>0.473684</td>\n",
       "    </tr>\n",
       "    <tr>\n",
       "      <th>3</th>\n",
       "      <td>0.736842</td>\n",
       "    </tr>\n",
       "    <tr>\n",
       "      <th>4</th>\n",
       "      <td>1.000000</td>\n",
       "    </tr>\n",
       "  </tbody>\n",
       "</table>\n",
       "</div>"
      ],
      "text/plain": [
       "          0\n",
       "0  0.000000\n",
       "1  0.210526\n",
       "2  0.473684\n",
       "3  0.736842\n",
       "4  1.000000"
      ]
     },
     "execution_count": 13,
     "metadata": {},
     "output_type": "execute_result"
    }
   ],
   "source": [
    "min_max_performed"
   ]
  },
  {
   "cell_type": "markdown",
   "id": "6a399dee-6438-46df-bed6-9becfafc6744",
   "metadata": {},
   "source": [
    "Q8. For a dataset containing the following features: [height, weight, age, gender, blood pressure], perform\n",
    "Feature Extraction using PCA. How many principal components would you choose to retain, and why?"
   ]
  },
  {
   "cell_type": "markdown",
   "id": "493dc99d-385a-4f06-ad6f-71653ba2fce0",
   "metadata": {},
   "source": [
    "Ans:- The dataset i will choose 2 principle components  weight and age to tetain the data and obtain the relationship,\n",
    "\n",
    "we can also use height and age to obtain some relationship"
   ]
  },
  {
   "cell_type": "code",
   "execution_count": null,
   "id": "6d0807f4-6b56-4e63-a306-4eb5ecd43da3",
   "metadata": {},
   "outputs": [],
   "source": []
  }
 ],
 "metadata": {
  "kernelspec": {
   "display_name": "Python 3 (ipykernel)",
   "language": "python",
   "name": "python3"
  },
  "language_info": {
   "codemirror_mode": {
    "name": "ipython",
    "version": 3
   },
   "file_extension": ".py",
   "mimetype": "text/x-python",
   "name": "python",
   "nbconvert_exporter": "python",
   "pygments_lexer": "ipython3",
   "version": "3.10.0"
  }
 },
 "nbformat": 4,
 "nbformat_minor": 5
}
